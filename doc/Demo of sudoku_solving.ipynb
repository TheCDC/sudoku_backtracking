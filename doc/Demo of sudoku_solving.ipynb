{
 "cells": [
  {
   "cell_type": "markdown",
   "metadata": {},
   "source": [
    "# Introduction #\n",
    "**By Christopher Chen**\n",
    "\n",
    "This is a demonstration of my sudoku_solving Python library. It lives at [https://github.com/TheCDC/sudoku_backtracking](https://github.com/TheCDC/sudoku_backtracking)\n",
    "\n",
    "It has routines for:\n",
    "\n",
    " 1. Creating Sudoku board objects\n",
    " \n",
    " 2. Manipulating boards to make solving easier\n",
    " \n",
    " 4. getting/setting the values of cells on boards\n",
    " \n",
    " 5. Populating the freebies\n",
    " \n",
    " 6. Solving boards using multiprocessed backtracking.\n",
    "\n"
   ]
  },
  {
   "cell_type": "markdown",
   "metadata": {},
   "source": [
    "# Usage #\n",
    "Begin by importing the library. As always, never use wildcard imports in production. They are liable to muck up your namespace and you'll tear your hair out wondering why functions and being overwritten. The wildcard is used here for brevity.\n"
   ]
  },
  {
   "cell_type": "code",
   "execution_count": 1,
   "metadata": {
    "collapsed": false
   },
   "outputs": [],
   "source": [
    "from sudoku_solving import *"
   ]
  },
  {
   "cell_type": "markdown",
   "metadata": {},
   "source": [
    "Boards can be created from strings or lists. The size of the board is assumed to be 9x9, unless specified otherwise."
   ]
  },
  {
   "cell_type": "code",
   "execution_count": 2,
   "metadata": {
    "collapsed": false
   },
   "outputs": [
    {
     "name": "stdout",
     "output_type": "stream",
     "text": [
      "-------------\n",
      "|--3|-2-|6--|\n",
      "|9--|3-5|--1|\n",
      "|--1|8-6|4--|\n",
      "-------------\n",
      "|--8|1-2|9--|\n",
      "|7--|---|--8|\n",
      "|--6|7-8|2--|\n",
      "-------------\n",
      "|--2|6-9|5--|\n",
      "|8--|2-3|--9|\n",
      "|--5|-1-|3--|\n",
      "-------------\n"
     ]
    }
   ],
   "source": [
    "board_str = (\"003020600\"\n",
    "             \"900305001\"\n",
    "             \"001806400\"\n",
    "             \"008102900\"\n",
    "             \"700000008\"\n",
    "             \"006708200\"\n",
    "             \"002609500\"\n",
    "             \"800203009\"\n",
    "             \"005010300\")\n",
    "board = board_from_string(board_str)\n",
    "print(board)"
   ]
  },
  {
   "cell_type": "code",
   "execution_count": 3,
   "metadata": {
    "collapsed": false
   },
   "outputs": [
    {
     "name": "stdout",
     "output_type": "stream",
     "text": [
      "-------------\n",
      "|--3|-2-|6--|\n",
      "|9--|3-5|--1|\n",
      "|--1|8-6|4--|\n",
      "-------------\n",
      "|--8|1-2|9--|\n",
      "|7--|---|--8|\n",
      "|--6|7-8|2--|\n",
      "-------------\n",
      "|--2|6-9|5--|\n",
      "|8--|2-3|--9|\n",
      "|--5|-1-|3--|\n",
      "-------------\n"
     ]
    }
   ],
   "source": [
    "board_list = [0, 0, 3, 0, 2, 0, 6, 0, 0, \n",
    "              9, 0, 0, 3, 0, 5, 0, 0, 1,\n",
    "              0, 0, 1, 8, 0, 6, 4, 0, 0,\n",
    "              0, 0, 8, 1, 0, 2, 9, 0, 0,\n",
    "              7, 0, 0, 0, 0, 0, 0, 0, 8,\n",
    "              0, 0, 6, 7, 0, 8, 2, 0, 0,\n",
    "              0, 0, 2, 6, 0, 9, 5, 0, 0,\n",
    "              8, 0, 0, 2, 0, 3, 0, 0, 9,\n",
    "              0, 0, 5, 0, 1, 0, 3, 0, 0]\n",
    "board = SudokuBoard(board_list)\n",
    "print(board)"
   ]
  },
  {
   "cell_type": "markdown",
   "metadata": {},
   "source": [
    "## Board Sizes ##\n",
    "Simply supply the optional size argument to the constructor to create a non-9x9 board."
   ]
  },
  {
   "cell_type": "code",
   "execution_count": 4,
   "metadata": {
    "collapsed": false
   },
   "outputs": [
    {
     "name": "stdout",
     "output_type": "stream",
     "text": [
      "-------\n",
      "|1-|3-|\n",
      "|-4|-2|\n",
      "-------\n",
      "|2-|4-|\n",
      "|-3|-1|\n",
      "-------\n"
     ]
    }
   ],
   "source": [
    "l = [1,0,3,0,\n",
    "     0,4,0,2,\n",
    "     2,0,4,0,\n",
    "     0,3,0,1]\n",
    "b = SudokuBoard(l,size=4)\n",
    "print(b)"
   ]
  },
  {
   "cell_type": "markdown",
   "metadata": {},
   "source": [
    "## Solution Checking ##\n",
    "Boards may also be checked for legality and finality with the `check` and `check_partial` methods."
   ]
  },
  {
   "cell_type": "code",
   "execution_count": 5,
   "metadata": {
    "collapsed": false
   },
   "outputs": [
    {
     "name": "stdout",
     "output_type": "stream",
     "text": [
      "4x4 maybe still solvable?\n",
      "True\n",
      "4x4 already solved?\n",
      "False\n"
     ]
    }
   ],
   "source": [
    "print(\"4x4 maybe still solvable?\",\n",
    "      b.check_partial(),\n",
    "      \"4x4 already solved?\",\n",
    "      b.check(),sep='\\n')"
   ]
  },
  {
   "cell_type": "code",
   "execution_count": 6,
   "metadata": {
    "collapsed": false
   },
   "outputs": [
    {
     "name": "stdout",
     "output_type": "stream",
     "text": [
      "9x9 maybe still solvable?\n",
      "True\n",
      "9x9 already solved?\n",
      "False\n"
     ]
    }
   ],
   "source": [
    "print(\"9x9 maybe still solvable?\",\n",
    "      board.check_partial(),\n",
    "      \"9x9 already solved?\",\n",
    "      board.check(),sep='\\n')"
   ]
  },
  {
   "cell_type": "markdown",
   "metadata": {},
   "source": [
    "## Board Transformation ##\n",
    "Some boards are more difficult to solve and some are less. Some of those boards are the same. The `optimize` and `optimized` methods transform a board to optimize it or return the optimized version, respectively.\n",
    "\n",
    "Those methods first fill in any freebies (cells with only one candidate) then sort the rows by their information density towards the left."
   ]
  },
  {
   "cell_type": "code",
   "execution_count": 7,
   "metadata": {
    "collapsed": false
   },
   "outputs": [
    {
     "name": "stdout",
     "output_type": "stream",
     "text": [
      "Old\n",
      "-------\n",
      "|1-|3-|\n",
      "|-4|-2|\n",
      "-------\n",
      "|2-|4-|\n",
      "|-3|-1|\n",
      "-------\n",
      "New\n",
      "-------\n",
      "|1-|3-|\n",
      "|-4|-2|\n",
      "-------\n",
      "|2-|4-|\n",
      "|-3|-1|\n",
      "-------\n"
     ]
    }
   ],
   "source": [
    "print(\"Old\",b,\"New\",b.optimized(),sep='\\n')"
   ]
  },
  {
   "cell_type": "code",
   "execution_count": 8,
   "metadata": {
    "collapsed": false,
    "scrolled": true
   },
   "outputs": [
    {
     "name": "stdout",
     "output_type": "stream",
     "text": [
      "Not optimized\n",
      "-------------\n",
      "|--3|-2-|6--|\n",
      "|9--|3-5|--1|\n",
      "|--1|8-6|4--|\n",
      "-------------\n",
      "|--8|1-2|9--|\n",
      "|7--|---|--8|\n",
      "|--6|7-8|2--|\n",
      "-------------\n",
      "|--2|6-9|5--|\n",
      "|8--|2-3|--9|\n",
      "|--5|-1-|3--|\n",
      "-------------\n",
      "Optimized\n",
      "-------------\n",
      "|9--|3-5|--1|\n",
      "|--1|8-6|4--|\n",
      "|--3|-2-|6--|\n",
      "-------------\n",
      "|8--|2-3|--9|\n",
      "|--2|6-9|5--|\n",
      "|--5|-1-|3--|\n",
      "-------------\n",
      "|7--|---|--8|\n",
      "|--8|1-2|9--|\n",
      "|--6|7-8|2--|\n",
      "-------------\n"
     ]
    }
   ],
   "source": [
    "print(\"Not optimized\",board,\"Optimized\",board.optimized(),sep='\\n')"
   ]
  },
  {
   "cell_type": "markdown",
   "metadata": {},
   "source": [
    "## Untransforming Boards ##\n",
    "The user may want to see the untransformed (or de-optimized) version of a board in order to compare to some other output. The `unoptimize` and `unoptimized` methods perform this operation or perform it on and return a copy, respectively."
   ]
  },
  {
   "cell_type": "code",
   "execution_count": 9,
   "metadata": {
    "collapsed": false
   },
   "outputs": [
    {
     "name": "stdout",
     "output_type": "stream",
     "text": [
      "Not Transformed\n",
      "-------------\n",
      "|--3|-2-|6--|\n",
      "|9--|3-5|--1|\n",
      "|--1|8-6|4--|\n",
      "-------------\n",
      "|--8|1-2|9--|\n",
      "|7--|---|--8|\n",
      "|--6|7-8|2--|\n",
      "-------------\n",
      "|--2|6-9|5--|\n",
      "|8--|2-3|--9|\n",
      "|--5|-1-|3--|\n",
      "-------------\n",
      "Un un transformed\n",
      "-------------\n",
      "|--3|-2-|6--|\n",
      "|9--|3-5|--1|\n",
      "|--1|8-6|4--|\n",
      "-------------\n",
      "|--8|1-2|9--|\n",
      "|7--|---|--8|\n",
      "|--6|7-8|2--|\n",
      "-------------\n",
      "|--2|6-9|5--|\n",
      "|8--|2-3|--9|\n",
      "|--5|-1-|3--|\n",
      "-------------\n"
     ]
    }
   ],
   "source": [
    "print(\"Not Transformed\",board,\"Un un transformed\",board.optimized().unoptimized(),sep='\\n')"
   ]
  },
  {
   "cell_type": "markdown",
   "metadata": {},
   "source": [
    "## Iterative Solving ##\n",
    "The `populate` method of the SudokuBoard object fills in all the freebies. It is called automatically by the `optimize` method. It is often useful to call it by itself as it returns the number of freebies it filled in."
   ]
  },
  {
   "cell_type": "code",
   "execution_count": 10,
   "metadata": {
    "collapsed": false
   },
   "outputs": [
    {
     "name": "stdout",
     "output_type": "stream",
     "text": [
      "-------------\n",
      "|483|921|657|\n",
      "|967|345|821|\n",
      "|251|876|493|\n",
      "-------------\n",
      "|548|132|976|\n",
      "|729|564|138|\n",
      "|136|798|245|\n",
      "-------------\n",
      "|372|689|514|\n",
      "|814|253|769|\n",
      "|695|417|382|\n",
      "-------------\n"
     ]
    }
   ],
   "source": [
    "new_board = board.clone() #the clone method returns a deep copy of a board\n",
    "while new_board.populate() != 0:\n",
    "    pass #do nothing, populate() handles all the work\n",
    "print(new_board)"
   ]
  },
  {
   "cell_type": "markdown",
   "metadata": {},
   "source": [
    "The `populate()` method also has an optional `max_depth` argument which specifies the maximum  number of times it the board will try to populate itself. A value of 0 means it will try until it reaches a step in which 0 freebies are filled."
   ]
  },
  {
   "cell_type": "code",
   "execution_count": 11,
   "metadata": {
    "collapsed": false
   },
   "outputs": [
    {
     "name": "stdout",
     "output_type": "stream",
     "text": [
      "-------------\n",
      "|--3|-2-|6--|\n",
      "|9--|3-5|--1|\n",
      "|--1|8-6|4--|\n",
      "-------------\n",
      "|--8|1-2|9--|\n",
      "|7--|--4|1-8|\n",
      "|--6|7-8|2--|\n",
      "-------------\n",
      "|--2|6-9|5-4|\n",
      "|8--|2-3|7-9|\n",
      "|--5|417|3--|\n",
      "-------------\n"
     ]
    }
   ],
   "source": [
    "new_board = board.clone()\n",
    "new_board.populate(max_depth=1)\n",
    "print(new_board)"
   ]
  },
  {
   "cell_type": "markdown",
   "metadata": {},
   "source": [
    "# Advanced Usage #\n",
    "This section covers usage involving backtracking and multiple processes."
   ]
  },
  {
   "cell_type": "markdown",
   "metadata": {},
   "source": [
    "## Solving with One Function ##\n",
    "The function `solve_list` is provided to facilitate multi-processed backtracking for solving a board."
   ]
  },
  {
   "cell_type": "code",
   "execution_count": 12,
   "metadata": {
    "collapsed": false
   },
   "outputs": [
    {
     "name": "stdout",
     "output_type": "stream",
     "text": [
      "Unsolved\n",
      "-------------\n",
      "|--3|-2-|6--|\n",
      "|9--|3-5|--1|\n",
      "|--1|8-6|4--|\n",
      "-------------\n",
      "|--8|1-2|9--|\n",
      "|7--|---|--8|\n",
      "|--6|7-8|2--|\n",
      "-------------\n",
      "|--2|6-9|5--|\n",
      "|8--|2-3|--9|\n",
      "|--5|-1-|3--|\n",
      "-------------\n",
      "Solved\n",
      "-------------\n",
      "|483|921|657|\n",
      "|967|345|821|\n",
      "|251|876|493|\n",
      "-------------\n",
      "|548|132|976|\n",
      "|729|564|138|\n",
      "|136|798|245|\n",
      "-------------\n",
      "|372|689|514|\n",
      "|814|253|769|\n",
      "|695|417|382|\n",
      "-------------\n"
     ]
    }
   ],
   "source": [
    "#recall that board was constructed from board_list\n",
    "out = solve_list(board_list,size=9,num_processes=4)\n",
    "print(\"Unsolved\",board,\"Solved\", out,sep='\\n')"
   ]
  },
  {
   "cell_type": "markdown",
   "metadata": {},
   "source": [
    "# Performance #\n",
    "I am running this on my laptop with an i7 and 8GB of RAM.\n",
    "The number of process is actually the number of child processes that are performing the backtracking. There are two more, one that manages access to shared objects in memory and the other is the main process."
   ]
  },
  {
   "cell_type": "code",
   "execution_count": 13,
   "metadata": {
    "collapsed": false
   },
   "outputs": [
    {
     "name": "stdout",
     "output_type": "stream",
     "text": [
      "4 processes: 0.0275 seconds\n",
      "5 processes: 0.0317 seconds\n",
      "6 processes: 0.0381 seconds\n",
      "7 processes: 0.0798 seconds\n",
      "8 processes: 0.0682 seconds\n",
      "9 processes: 0.0680 seconds\n",
      "10 processes: 0.0767 seconds\n",
      "11 processes: 0.0754 seconds\n",
      "12 processes: 0.0832 seconds\n"
     ]
    }
   ],
   "source": [
    "import time\n",
    "for i in range(4,12+1):\n",
    "    ti = time.time()\n",
    "    solve_list(board_list,size=9,num_processes=i)\n",
    "    print(i,\"processes:\",\"{:.4f} seconds\".format(time.time() - ti))"
   ]
  },
  {
   "cell_type": "markdown",
   "metadata": {},
   "source": [
    "## Performance Analysis ## \n",
    " The particular board I have been demoing is relatively easy and can be solved using logic only. As such, adding more processes increases overhead for no particular benefit, as you may have noticed by the solve time increasing with the number of processes. However, there do exist boards that are difficult enough to merit multiprocessing. For example, the \"hardest sudoku board ever\""
   ]
  },
  {
   "cell_type": "code",
   "execution_count": 14,
   "metadata": {
    "collapsed": false
   },
   "outputs": [
    {
     "name": "stdout",
     "output_type": "stream",
     "text": [
      "-------------\n",
      "|8--|---|---|\n",
      "|--3|6--|---|\n",
      "|-7-|-9-|2--|\n",
      "-------------\n",
      "|-5-|--7|---|\n",
      "|---|-45|7--|\n",
      "|---|1--|-3-|\n",
      "-------------\n",
      "|--1|---|-68|\n",
      "|--8|5--|-1-|\n",
      "|-9-|---|4--|\n",
      "-------------\n",
      "Num. filled in: 21\n"
     ]
    }
   ],
   "source": [
    "hardest = (\"800000000\"\n",
    "           \"003600000\"\n",
    "           \"070090200\"\n",
    "           \"050007000\"\n",
    "           \"000045700\"\n",
    "           \"000100030\"\n",
    "           \"001000068\"\n",
    "           \"008500010\"\n",
    "           \"090000400\")\n",
    "bb = board_from_string(hardest)\n",
    "print(bb)\n",
    "print(\"Num. filled in:\",len([i for i in hardest if i != '0']))"
   ]
  },
  {
   "cell_type": "markdown",
   "metadata": {},
   "source": [
    "This particular board is extremely difficult and requires several layers of guessing before any cells can be filled in with logic. Notice that no freebies are found:"
   ]
  },
  {
   "cell_type": "code",
   "execution_count": 15,
   "metadata": {
    "collapsed": false
   },
   "outputs": [
    {
     "name": "stdout",
     "output_type": "stream",
     "text": [
      "Num. freebies: 0\n"
     ]
    }
   ],
   "source": [
    "print(\"Num. freebies:\",bb.populate())"
   ]
  },
  {
   "cell_type": "markdown",
   "metadata": {},
   "source": [
    "Beause we already have a board object we will use the solve_sudoku function instead of solve_list. The same benchmarking process as before is repeated. these numbers are completely system dependent but should demonstrate that there is an optimal number of child processes for a given task on a given system."
   ]
  },
  {
   "cell_type": "code",
   "execution_count": 18,
   "metadata": {
    "collapsed": false
   },
   "outputs": [
    {
     "name": "stdout",
     "output_type": "stream",
     "text": [
      "4 processes: 4.2471 seconds\n",
      "5 processes: 1.5918 seconds\n",
      "6 processes: 1.5753 seconds\n",
      "7 processes: 2.8253 seconds\n",
      "8 processes: 4.2061 seconds\n",
      "9 processes: 3.1247 seconds\n",
      "10 processes: 4.0924 seconds\n",
      "11 processes: 3.1770 seconds\n",
      "12 processes: 6.8763 seconds\n",
      "13 processes: 3.2033 seconds\n",
      "14 processes: 1.0581 seconds\n",
      "15 processes: 3.6653 seconds\n",
      "16 processes: 6.6144 seconds\n"
     ]
    }
   ],
   "source": [
    "for i in range(4,16+1):\n",
    "    ti = time.time()\n",
    "    solve_sudoku(bb,num_processes=i)\n",
    "    tf = time.time()\n",
    "    print(i,\"processes:\",\"{:.4f} seconds\".format(tf - ti))"
   ]
  },
  {
   "cell_type": "markdown",
   "metadata": {},
   "source": [
    "On average I get the most consistently good performance with 10 child processes."
   ]
  },
  {
   "cell_type": "code",
   "execution_count": null,
   "metadata": {
    "collapsed": true
   },
   "outputs": [],
   "source": []
  }
 ],
 "metadata": {
  "kernelspec": {
   "display_name": "Python 3",
   "language": "python",
   "name": "python3"
  },
  "language_info": {
   "codemirror_mode": {
    "name": "ipython",
    "version": 3
   },
   "file_extension": ".py",
   "mimetype": "text/x-python",
   "name": "python",
   "nbconvert_exporter": "python",
   "pygments_lexer": "ipython3",
   "version": "3.5.2"
  }
 },
 "nbformat": 4,
 "nbformat_minor": 1
}
