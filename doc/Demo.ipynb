{
 "cells": [
  {
   "cell_type": "markdown",
   "metadata": {},
   "source": [
    "# sudoku_solving Library Demo #\n",
    "As always, import the library."
   ]
  },
  {
   "cell_type": "code",
   "execution_count": 1,
   "metadata": {
    "collapsed": false
   },
   "outputs": [],
   "source": [
    "from sudoku_solving import *"
   ]
  },
  {
   "cell_type": "markdown",
   "metadata": {},
   "source": [
    "# Usage #\n",
    "Boards can be created form strings or lists. The size of the board is assumed to be 9x9, unless specified otherwise."
   ]
  },
  {
   "cell_type": "code",
   "execution_count": 2,
   "metadata": {
    "collapsed": false
   },
   "outputs": [
    {
     "name": "stdout",
     "output_type": "stream",
     "text": [
      "\n",
      "-------------\n",
      "|003|020|600|\n",
      "|900|305|001|\n",
      "|001|806|400|\n",
      "-------------\n",
      "|008|102|900|\n",
      "|700|000|008|\n",
      "|006|708|200|\n",
      "-------------\n",
      "|002|609|500|\n",
      "|800|203|009|\n",
      "|005|010|300|\n",
      "-------------\n"
     ]
    }
   ],
   "source": [
    "board_str = \"003020600900305001001806400008102900700000008006708200002609500800203009005010300\"\n",
    "board = board_from_string(board_str)\n",
    "print(board)"
   ]
  },
  {
   "cell_type": "code",
   "execution_count": 3,
   "metadata": {
    "collapsed": false
   },
   "outputs": [
    {
     "name": "stdout",
     "output_type": "stream",
     "text": [
      "\n",
      "-------------\n",
      "|003|020|600|\n",
      "|900|305|001|\n",
      "|001|806|400|\n",
      "-------------\n",
      "|008|102|900|\n",
      "|700|000|008|\n",
      "|006|708|200|\n",
      "-------------\n",
      "|002|609|500|\n",
      "|800|203|009|\n",
      "|005|010|300|\n",
      "-------------\n"
     ]
    }
   ],
   "source": [
    "board_list = [0, 0, 3, 0, 2, 0, 6, 0, 0, \n",
    "              9, 0, 0, 3, 0, 5, 0, 0, 1,\n",
    "              0, 0, 1, 8, 0, 6, 4, 0, 0,\n",
    "              0, 0, 8, 1, 0, 2, 9, 0, 0,\n",
    "              7, 0, 0, 0, 0, 0, 0, 0, 8,\n",
    "              0, 0, 6, 7, 0, 8, 2, 0, 0,\n",
    "              0, 0, 2, 6, 0, 9, 5, 0, 0,\n",
    "              8, 0, 0, 2, 0, 3, 0, 0, 9,\n",
    "              0, 0, 5, 0, 1, 0, 3, 0, 0]\n",
    "board = SudokuBoard(board_list)\n",
    "print(board)"
   ]
  },
  {
   "cell_type": "markdown",
   "metadata": {},
   "source": [
    "## Board Sizes ##\n",
    "Simply supply the optional size argument to the constructor to create a non-9x9 board."
   ]
  },
  {
   "cell_type": "code",
   "execution_count": 4,
   "metadata": {
    "collapsed": false
   },
   "outputs": [
    {
     "name": "stdout",
     "output_type": "stream",
     "text": [
      "\n",
      "-------\n",
      "|10|30|\n",
      "|04|02|\n",
      "-------\n",
      "|20|40|\n",
      "|03|01|\n",
      "-------\n"
     ]
    }
   ],
   "source": [
    "l = [1,0,3,0,\n",
    "     0,4,0,2,\n",
    "     2,0,4,0,\n",
    "     0,3,0,1]\n",
    "b = SudokuBoard(l,size=4)\n",
    "print(b)"
   ]
  },
  {
   "cell_type": "markdown",
   "metadata": {},
   "source": [
    "# Solution Checking #\n",
    "Boards may also be checked for legalityanf finality with the `check` and `check_partial` methods."
   ]
  },
  {
   "cell_type": "code",
   "execution_count": 5,
   "metadata": {
    "collapsed": false
   },
   "outputs": [
    {
     "name": "stdout",
     "output_type": "stream",
     "text": [
      "4x4 maybe still solvable?\n",
      "True\n",
      "4x4 already solved?\n",
      "False\n"
     ]
    }
   ],
   "source": [
    "print(\"4x4 maybe still solvable?\",b.check_partial(),\"4x4 already solved?\",b.check(),sep='\\n')"
   ]
  },
  {
   "cell_type": "code",
   "execution_count": 6,
   "metadata": {
    "collapsed": false
   },
   "outputs": [
    {
     "name": "stdout",
     "output_type": "stream",
     "text": [
      "9x9 maybe still solvable?\n",
      "True\n",
      "9x9 already solved?\n",
      "False\n"
     ]
    }
   ],
   "source": [
    "print(\"9x9 maybe still solvable?\",board.check_partial(),\"9x9 already solved?\",board.check(),sep='\\n')"
   ]
  },
  {
   "cell_type": "markdown",
   "metadata": {},
   "source": [
    "# Board Transformation #\n",
    "Some boards are more difficult to solve and some are less. Some of those boards are the same. The `optimize` and `optimized` methods transform a board to optimize it or return the optimized version, respectively.\n",
    "\n",
    "Those methods first fill in any freebies (cells with only one candidate) then sort the rows by their information density towards the left."
   ]
  },
  {
   "cell_type": "code",
   "execution_count": 7,
   "metadata": {
    "collapsed": false
   },
   "outputs": [
    {
     "name": "stdout",
     "output_type": "stream",
     "text": [
      "Old\n",
      "\n",
      "-------\n",
      "|10|30|\n",
      "|04|02|\n",
      "-------\n",
      "|20|40|\n",
      "|03|01|\n",
      "-------\n",
      "New\n",
      "\n",
      "-------\n",
      "|12|34|\n",
      "|34|12|\n",
      "-------\n",
      "|21|43|\n",
      "|43|21|\n",
      "-------\n"
     ]
    }
   ],
   "source": [
    "print(\"Old\",b,\"New\",b.optimized(),sep='\\n')"
   ]
  },
  {
   "cell_type": "code",
   "execution_count": 8,
   "metadata": {
    "collapsed": false,
    "scrolled": true
   },
   "outputs": [
    {
     "name": "stdout",
     "output_type": "stream",
     "text": [
      "Old\n",
      "\n",
      "-------------\n",
      "|003|020|600|\n",
      "|900|305|001|\n",
      "|001|806|400|\n",
      "-------------\n",
      "|008|102|900|\n",
      "|700|000|008|\n",
      "|006|708|200|\n",
      "-------------\n",
      "|002|609|500|\n",
      "|800|203|009|\n",
      "|005|010|300|\n",
      "-------------\n",
      "New\n",
      "\n",
      "-------------\n",
      "|804|253|709|\n",
      "|695|417|302|\n",
      "|002|689|514|\n",
      "-------------\n",
      "|907|345|821|\n",
      "|001|876|400|\n",
      "|003|921|600|\n",
      "-------------\n",
      "|709|504|108|\n",
      "|008|102|900|\n",
      "|006|708|200|\n",
      "-------------\n"
     ]
    }
   ],
   "source": [
    "print(\"Old\",board,\"New\",board.optimized(),sep='\\n')"
   ]
  },
  {
   "cell_type": "markdown",
   "metadata": {},
   "source": [
    "# Untransforming Boards #\n",
    "The user may want to see the untransformed (or de-optimized) version of a board in order to compare to some other output. The `unoptimize` and `unoptimized` methods perform this operation or perform it on and return a copy, respectively."
   ]
  },
  {
   "cell_type": "code",
   "execution_count": 9,
   "metadata": {
    "collapsed": false
   },
   "outputs": [
    {
     "name": "stdout",
     "output_type": "stream",
     "text": [
      "Old\n",
      "\n",
      "-------------\n",
      "|003|020|600|\n",
      "|900|305|001|\n",
      "|001|806|400|\n",
      "-------------\n",
      "|008|102|900|\n",
      "|700|000|008|\n",
      "|006|708|200|\n",
      "-------------\n",
      "|002|609|500|\n",
      "|800|203|009|\n",
      "|005|010|300|\n",
      "-------------\n",
      "New\n",
      "\n",
      "-------------\n",
      "|003|921|600|\n",
      "|907|345|821|\n",
      "|001|876|400|\n",
      "-------------\n",
      "|008|102|900|\n",
      "|709|504|108|\n",
      "|006|708|200|\n",
      "-------------\n",
      "|002|689|514|\n",
      "|804|253|709|\n",
      "|695|417|302|\n",
      "-------------\n"
     ]
    }
   ],
   "source": [
    "print(\"Old\",board,\"New\",board.optimized().unoptimized(),sep='\\n')"
   ]
  },
  {
   "cell_type": "markdown",
   "metadata": {},
   "source": [
    "# Solving with One Function #\n",
    "The function `solve_list` is provided to facilitate multi-processed backtracking for solving a board."
   ]
  },
  {
   "cell_type": "code",
   "execution_count": 12,
   "metadata": {
    "collapsed": false
   },
   "outputs": [
    {
     "name": "stdout",
     "output_type": "stream",
     "text": [
      "Unsolved\n",
      "\n",
      "-------------\n",
      "|003|020|600|\n",
      "|900|305|001|\n",
      "|001|806|400|\n",
      "-------------\n",
      "|008|102|900|\n",
      "|700|000|008|\n",
      "|006|708|200|\n",
      "-------------\n",
      "|002|609|500|\n",
      "|800|203|009|\n",
      "|005|010|300|\n",
      "-------------\n",
      "Solved\n",
      "\n",
      "-------------\n",
      "|483|921|657|\n",
      "|967|345|821|\n",
      "|251|876|493|\n",
      "-------------\n",
      "|548|132|976|\n",
      "|729|564|138|\n",
      "|136|798|245|\n",
      "-------------\n",
      "|372|689|514|\n",
      "|814|253|769|\n",
      "|695|417|382|\n",
      "-------------\n"
     ]
    }
   ],
   "source": [
    "#recall that board was constructed from board_list\n",
    "out = solve_list(board_list,size=9,num_processes=4)\n",
    "print(\"Unsolved\",board,\"Solved\", out,sep='\\n')"
   ]
  },
  {
   "cell_type": "code",
   "execution_count": null,
   "metadata": {
    "collapsed": true
   },
   "outputs": [],
   "source": []
  }
 ],
 "metadata": {
  "kernelspec": {
   "display_name": "Python 3",
   "language": "python",
   "name": "python3"
  },
  "language_info": {
   "codemirror_mode": {
    "name": "ipython",
    "version": 3
   },
   "file_extension": ".py",
   "mimetype": "text/x-python",
   "name": "python",
   "nbconvert_exporter": "python",
   "pygments_lexer": "ipython3",
   "version": "3.5.2"
  }
 },
 "nbformat": 4,
 "nbformat_minor": 1
}
