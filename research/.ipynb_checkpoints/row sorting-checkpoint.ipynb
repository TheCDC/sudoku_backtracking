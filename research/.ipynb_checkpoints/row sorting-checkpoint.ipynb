{
 "cells": [
  {
   "cell_type": "code",
   "execution_count": 1,
   "metadata": {
    "collapsed": false
   },
   "outputs": [],
   "source": [
    "import sys\n",
    "sys.path.append('../')\n",
    "from sudoku_solving import * \n",
    "from beeprint import pp as pprint"
   ]
  },
  {
   "cell_type": "code",
   "execution_count": 2,
   "metadata": {
    "collapsed": false
   },
   "outputs": [
    {
     "data": {
      "text/plain": [
       "[0.25,\n",
       " 0.08333333333333333,\n",
       " 0.4583333333333333,\n",
       " 0.3333333333333333,\n",
       " 0.3958333333333333]"
      ]
     },
     "execution_count": 2,
     "metadata": {},
     "output_type": "execute_result"
    }
   ],
   "source": [
    "[\n",
    "    weight_row([1,0,0,0]),\n",
    "    weight_row([0,0,1,0]),\n",
    "    weight_row([1,1,1,0]),\n",
    "    weight_row([1,0,1,0]),\n",
    "     weight_row([1,0,1,2]),\n",
    "]"
   ]
  },
  {
   "cell_type": "code",
   "execution_count": 3,
   "metadata": {
    "collapsed": false
   },
   "outputs": [
    {
     "data": {
      "text/plain": [
       "[3, 2, 1]"
      ]
     },
     "execution_count": 3,
     "metadata": {},
     "output_type": "execute_result"
    }
   ],
   "source": [
    "sorted([1,2,3],key = lambda x: 1/x)"
   ]
  },
  {
   "cell_type": "code",
   "execution_count": 4,
   "metadata": {
    "collapsed": false
   },
   "outputs": [
    {
     "name": "stdout",
     "output_type": "stream",
     "text": [
      "\n",
      "-------------\n",
      "|003|020|600|\n",
      "|900|305|001|\n",
      "|001|806|400|\n",
      "-------------\n",
      "|008|102|900|\n",
      "|700|000|008|\n",
      "|006|708|200|\n",
      "-------------\n",
      "|002|609|500|\n",
      "|800|203|009|\n",
      "|005|010|300|\n",
      "-------------\n"
     ]
    }
   ],
   "source": [
    "l = [int(i) for i in \"003020600900305001001806400008102900700000008006708200002609500800203009005010300\"]\n",
    "# l = [int(i) for i in \"\"]\n",
    "b = SudokuBoard(l,9)\n",
    "print(b)"
   ]
  },
  {
   "cell_type": "code",
   "execution_count": 5,
   "metadata": {
    "collapsed": false
   },
   "outputs": [
    {
     "data": {
      "text/plain": [
       "[[0, 0, 3, 0, 2, 0, 6, 0, 0],\n",
       " [9, 0, 0, 3, 0, 5, 0, 0, 1],\n",
       " [0, 0, 1, 8, 0, 6, 4, 0, 0],\n",
       " [0, 0, 8, 1, 0, 2, 9, 0, 0],\n",
       " [7, 0, 0, 0, 0, 0, 0, 0, 8],\n",
       " [0, 0, 6, 7, 0, 8, 2, 0, 0],\n",
       " [0, 0, 2, 6, 0, 9, 5, 0, 0],\n",
       " [8, 0, 0, 2, 0, 3, 0, 0, 9],\n",
       " [0, 0, 5, 0, 1, 0, 3, 0, 0]]"
      ]
     },
     "execution_count": 5,
     "metadata": {},
     "output_type": "execute_result"
    }
   ],
   "source": [
    "b.rows"
   ]
  },
  {
   "cell_type": "code",
   "execution_count": 6,
   "metadata": {
    "collapsed": false
   },
   "outputs": [
    {
     "name": "stdout",
     "output_type": "stream",
     "text": [
      "[([9, 0, 0, 3, 0, 5, 0, 0, 1], 1), ([8, 0, 0, 2, 0, 3, 0, 0, 9], 7), ([7, 0, 0, 0, 0, 0, 0, 0, 8], 4), ([0, 0, 1, 8, 0, 6, 4, 0, 0], 2), ([0, 0, 8, 1, 0, 2, 9, 0, 0], 3), ([0, 0, 6, 7, 0, 8, 2, 0, 0], 5), ([0, 0, 2, 6, 0, 9, 5, 0, 0], 6), ([0, 0, 3, 0, 2, 0, 6, 0, 0], 0), ([0, 0, 5, 0, 1, 0, 3, 0, 0], 8)]\n"
     ]
    }
   ],
   "source": [
    "zipped = list(zip(b.rows,b.rownums))\n",
    "zipped.sort(key=lambda x: weight_row(x[0]),reverse=True)\n",
    "print(zipped)"
   ]
  },
  {
   "cell_type": "code",
   "execution_count": 7,
   "metadata": {
    "collapsed": false
   },
   "outputs": [
    {
     "name": "stdout",
     "output_type": "stream",
     "text": [
      "\n",
      "-------------\n",
      "|800|203|709|\n",
      "|005|417|300|\n",
      "|002|609|504|\n",
      "-------------\n",
      "|900|305|001|\n",
      "|001|806|400|\n",
      "|003|020|600|\n",
      "-------------\n",
      "|700|004|108|\n",
      "|008|102|900|\n",
      "|006|708|200|\n",
      "-------------\n",
      "[7, 8, 6, 1, 2, 0, 4, 3, 5]\n"
     ]
    }
   ],
   "source": [
    "\n",
    "b.optimize()\n",
    "print(b)\n",
    "print(b.rownums)"
   ]
  },
  {
   "cell_type": "code",
   "execution_count": 8,
   "metadata": {
    "collapsed": false
   },
   "outputs": [],
   "source": [
    "b.set(b.candidates(*b.next_empty()).pop(),*b.next_empty() )"
   ]
  },
  {
   "cell_type": "code",
   "execution_count": 9,
   "metadata": {
    "collapsed": false
   },
   "outputs": [
    {
     "name": "stdout",
     "output_type": "stream",
     "text": [
      "\n",
      "-------------\n",
      "|810|203|709|\n",
      "|005|417|300|\n",
      "|002|609|504|\n",
      "-------------\n",
      "|900|305|001|\n",
      "|001|806|400|\n",
      "|003|020|600|\n",
      "-------------\n",
      "|700|004|108|\n",
      "|008|102|900|\n",
      "|006|708|200|\n",
      "-------------\n"
     ]
    }
   ],
   "source": [
    "print(b)"
   ]
  },
  {
   "cell_type": "code",
   "execution_count": 10,
   "metadata": {
    "collapsed": false
   },
   "outputs": [],
   "source": [
    "for i in range(3):\n",
    "    try:\n",
    "        b.set(b.candidates(*b.next_empty()).pop(),*b.next_empty() )\n",
    "    except KeyError:\n",
    "        pass"
   ]
  },
  {
   "cell_type": "code",
   "execution_count": 11,
   "metadata": {
    "collapsed": false
   },
   "outputs": [
    {
     "name": "stdout",
     "output_type": "stream",
     "text": [
      "\n",
      "-------------\n",
      "|814|253|769|\n",
      "|005|417|300|\n",
      "|002|609|504|\n",
      "-------------\n",
      "|900|305|001|\n",
      "|001|806|400|\n",
      "|003|020|600|\n",
      "-------------\n",
      "|700|004|108|\n",
      "|008|102|900|\n",
      "|006|708|200|\n",
      "------------- (0, 1) {5}\n"
     ]
    }
   ],
   "source": [
    "print(b,b.next_empty(),b.candidates(4,0))\n"
   ]
  },
  {
   "cell_type": "code",
   "execution_count": 12,
   "metadata": {
    "collapsed": false
   },
   "outputs": [
    {
     "data": {
      "text/plain": [
       "[SudokuBoard([8, 1, 4, 2, 5, 3, 7, 6, 9, 3, 7, 2, 6, 8, 9, 5, 1, 4, 6, 9, 5, 4, 1, 7, 3, 0, 2, 9, 0, 7, 3, 4, 5, 8, 2, 1, 0, 0, 1, 8, 7, 6, 4, 0, 0, 0, 0, 3, 9, 2, 1, 6, 0, 0, 7, 0, 9, 5, 0, 4, 1, 3, 8, 0, 0, 6, 7, 0, 8, 2, 0, 5, 0, 0, 8, 1, 0, 2, 9, 0, 0], 9)]"
      ]
     },
     "execution_count": 12,
     "metadata": {},
     "output_type": "execute_result"
    }
   ],
   "source": [
    "sudoku_next_choices(b)"
   ]
  },
  {
   "cell_type": "code",
   "execution_count": 13,
   "metadata": {
    "collapsed": false
   },
   "outputs": [
    {
     "data": {
      "text/plain": [
       "[([8, 1, 4, 2, 5, 3, 7, 6, 9], 7),\n",
       " ([0, 0, 5, 4, 1, 7, 3, 0, 0], 8),\n",
       " ([0, 0, 2, 6, 0, 9, 5, 0, 4], 6),\n",
       " ([9, 0, 0, 3, 0, 5, 0, 0, 1], 1),\n",
       " ([0, 0, 1, 8, 0, 6, 4, 0, 0], 2),\n",
       " ([0, 0, 3, 0, 2, 0, 6, 0, 0], 0),\n",
       " ([7, 0, 0, 0, 0, 4, 1, 0, 8], 4),\n",
       " ([0, 0, 8, 1, 0, 2, 9, 0, 0], 3),\n",
       " ([0, 0, 6, 7, 0, 8, 2, 0, 0], 5)]"
      ]
     },
     "execution_count": 13,
     "metadata": {},
     "output_type": "execute_result"
    }
   ],
   "source": [
    "list(zip(b.rows,b.rownums))"
   ]
  },
  {
   "cell_type": "code",
   "execution_count": 14,
   "metadata": {
    "collapsed": false
   },
   "outputs": [
    {
     "name": "stdout",
     "output_type": "stream",
     "text": [
      "[[[8, 1, 4, 2, 5, 3, 7, 6, 9], [0, 0, 5, 4, 1, 7, 3, 0, 0], [0, 0, 2, 6, 0, 9, 5, 0, 4]], [[9, 0, 0, 3, 0, 5, 0, 0, 1], [0, 0, 1, 8, 0, 6, 4, 0, 0], [0, 0, 3, 0, 2, 0, 6, 0, 0]], [[7, 0, 0, 0, 0, 4, 1, 0, 8], [0, 0, 8, 1, 0, 2, 9, 0, 0], [0, 0, 6, 7, 0, 8, 2, 0, 0]]]\n"
     ]
    }
   ],
   "source": [
    "print(sublists(b.rows,b.root))"
   ]
  },
  {
   "cell_type": "code",
   "execution_count": 15,
   "metadata": {
    "collapsed": false
   },
   "outputs": [
    {
     "data": {
      "text/plain": [
       "[([8, 1, 4, 2, 5, 3, 7, 6, 9], 0),\n",
       " ([0, 0, 5, 4, 1, 7, 3, 0, 0], 1),\n",
       " ([0, 0, 2, 6, 0, 9, 5, 0, 4], 2)]"
      ]
     },
     "execution_count": 15,
     "metadata": {},
     "output_type": "execute_result"
    }
   ],
   "source": [
    "list(zip(b.rows[0:3],[0,1,2]))"
   ]
  },
  {
   "cell_type": "code",
   "execution_count": 16,
   "metadata": {
    "collapsed": false
   },
   "outputs": [
    {
     "name": "stdout",
     "output_type": "stream",
     "text": [
      "[\n",
      "  (\n",
      "    [\n",
      "      (\n",
      "        [8, 1, 4, 2, 5, 3, 7, 6, 9],\n",
      "        7,\n",
      "      ),\n",
      "      (\n",
      "        [3, 7, 2, 6, 8, 9, 5, 1, 4],\n",
      "        6,\n",
      "      ),\n",
      "      (\n",
      "        [6, 9, 5, 4, 1, 7, 3, 0, 2],\n",
      "        8,\n",
      "      ),\n",
      "    ],\n",
      "    0.31432980599647264,\n",
      "  ),\n",
      "  (\n",
      "    [\n",
      "      (\n",
      "        [9, 0, 7, 3, 4, 5, 8, 2, 1],\n",
      "        1,\n",
      "      ),\n",
      "      (\n",
      "        [0, 0, 1, 8, 7, 6, 4, 0, 0],\n",
      "        2,\n",
      "      ),\n",
      "      (\n",
      "        [0, 0, 3, 9, 2, 1, 6, 0, 0],\n",
      "        0,\n",
      "      ),\n",
      "    ],\n",
      "    0.2587742504409171,\n",
      "  ),\n",
      "  (\n",
      "    [\n",
      "      (\n",
      "        [7, 0, 9, 5, 0, 4, 1, 3, 8],\n",
      "        4,\n",
      "      ),\n",
      "      (\n",
      "        [0, 0, 6, 7, 0, 8, 2, 0, 5],\n",
      "        5,\n",
      "      ),\n",
      "      (\n",
      "        [0, 0, 8, 1, 0, 2, 9, 0, 0],\n",
      "        3,\n",
      "      ),\n",
      "    ],\n",
      "    0.2365520282186949,\n",
      "  ),\n",
      "]\n"
     ]
    }
   ],
   "source": [
    "pprint(b.optimize())\n"
   ]
  },
  {
   "cell_type": "code",
   "execution_count": null,
   "metadata": {
    "collapsed": true
   },
   "outputs": [],
   "source": []
  }
 ],
 "metadata": {
  "kernelspec": {
   "display_name": "Python 3",
   "language": "python",
   "name": "python3"
  },
  "language_info": {
   "codemirror_mode": {
    "name": "ipython",
    "version": 3
   },
   "file_extension": ".py",
   "mimetype": "text/x-python",
   "name": "python",
   "nbconvert_exporter": "python",
   "pygments_lexer": "ipython3",
   "version": "3.5.2"
  }
 },
 "nbformat": 4,
 "nbformat_minor": 1
}
