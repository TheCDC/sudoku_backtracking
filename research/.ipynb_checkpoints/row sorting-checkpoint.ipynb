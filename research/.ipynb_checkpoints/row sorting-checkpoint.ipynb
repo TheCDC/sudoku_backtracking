{
 "cells": [
  {
   "cell_type": "code",
   "execution_count": 1,
   "metadata": {
    "collapsed": false
   },
   "outputs": [],
   "source": [
    "import sys\n",
    "sys.path.append('../')\n",
    "from sudoku import *"
   ]
  },
  {
   "cell_type": "code",
   "execution_count": 2,
   "metadata": {
    "collapsed": false
   },
   "outputs": [
    {
     "data": {
      "text/plain": [
       "[0.25,\n",
       " 0.08333333333333333,\n",
       " 0.4583333333333333,\n",
       " 0.3333333333333333,\n",
       " 0.3958333333333333]"
      ]
     },
     "execution_count": 2,
     "metadata": {},
     "output_type": "execute_result"
    }
   ],
   "source": [
    "[\n",
    "    weight_row([1,0,0,0]),\n",
    "    weight_row([0,0,1,0]),\n",
    "    weight_row([1,1,1,0]),\n",
    "    weight_row([1,0,1,0]),\n",
    "     weight_row([1,0,1,2]),\n",
    "]"
   ]
  },
  {
   "cell_type": "code",
   "execution_count": 3,
   "metadata": {
    "collapsed": false
   },
   "outputs": [
    {
     "data": {
      "text/plain": [
       "[3, 2, 1]"
      ]
     },
     "execution_count": 3,
     "metadata": {},
     "output_type": "execute_result"
    }
   ],
   "source": [
    "sorted([1,2,3],key = lambda x: 1/x)"
   ]
  },
  {
   "cell_type": "code",
   "execution_count": 10,
   "metadata": {
    "collapsed": false
   },
   "outputs": [
    {
     "name": "stdout",
     "output_type": "stream",
     "text": [
      "\n",
      "-------------\n",
      "|111|111|111|\n",
      "|000|000|000|\n",
      "|000|000|000|\n",
      "-------------\n",
      "|000|000|000|\n",
      "|000|000|000|\n",
      "|000|000|000|\n",
      "-------------\n",
      "|000|000|000|\n",
      "|000|000|000|\n",
      "|000|000|000|\n",
      "-------------\n"
     ]
    }
   ],
   "source": [
    "l = [int(i) for i in \"003020600900305001001806400008102900700000008006708200002609500800203009005010300\"]\n",
    "b = SudokuBoard(l,9)\n",
    "print(b)\n"
   ]
  },
  {
   "cell_type": "code",
   "execution_count": 11,
   "metadata": {
    "collapsed": false
   },
   "outputs": [
    {
     "name": "stdout",
     "output_type": "stream",
     "text": [
      "\n",
      "-------------\n",
      "|111|111|111|\n",
      "|000|000|000|\n",
      "|000|000|000|\n",
      "-------------\n",
      "|000|000|000|\n",
      "|000|000|000|\n",
      "|000|000|000|\n",
      "-------------\n",
      "|000|000|000|\n",
      "|000|000|000|\n",
      "|000|000|000|\n",
      "-------------\n",
      "[0, 1, 2, 3, 4, 5, 6, 7, 8]\n"
     ]
    }
   ],
   "source": [
    "\n",
    "b.optimize()\n",
    "print(b)\n",
    "print(b.rownums)"
   ]
  },
  {
   "cell_type": "code",
   "execution_count": 12,
   "metadata": {
    "collapsed": false
   },
   "outputs": [
    {
     "data": {
      "text/plain": [
       "(0, 1)"
      ]
     },
     "execution_count": 12,
     "metadata": {},
     "output_type": "execute_result"
    }
   ],
   "source": [
    "b.next_empty()"
   ]
  },
  {
   "cell_type": "code",
   "execution_count": null,
   "metadata": {
    "collapsed": true
   },
   "outputs": [],
   "source": []
  }
 ],
 "metadata": {
  "kernelspec": {
   "display_name": "Python 3",
   "language": "python",
   "name": "python3"
  },
  "language_info": {
   "codemirror_mode": {
    "name": "ipython",
    "version": 3
   },
   "file_extension": ".py",
   "mimetype": "text/x-python",
   "name": "python",
   "nbconvert_exporter": "python",
   "pygments_lexer": "ipython3",
   "version": "3.5.1"
  }
 },
 "nbformat": 4,
 "nbformat_minor": 1
}
